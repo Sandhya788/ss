{
 "cells": [
  {
   "cell_type": "markdown",
   "id": "da31bebe",
   "metadata": {},
   "source": [
    "##### Classification:\n",
    "   * classifies the data ino categories\n",
    "   **When to regression and classification**\n",
    "   * If we have to predict the output we will use regression method\n",
    "   * If we have to classify the input into a category then we will use classification\n",
    "# Logistic Regression:\n",
    "   ***this is one of the classication model***"
   ]
  },
  {
   "cell_type": "code",
   "execution_count": 1,
   "id": "5863ca20",
   "metadata": {},
   "outputs": [
    {
     "name": "stdout",
     "output_type": "stream",
     "text": [
      "hello\n"
     ]
    }
   ],
   "source": [
    "print('hello')"
   ]
  },
  {
   "cell_type": "code",
   "execution_count": null,
   "id": "479b96eb",
   "metadata": {},
   "outputs": [],
   "source": []
  }
 ],
 "metadata": {
  "kernelspec": {
   "display_name": "Python 3",
   "language": "python",
   "name": "python3"
  },
  "language_info": {
   "codemirror_mode": {
    "name": "ipython",
    "version": 3
   },
   "file_extension": ".py",
   "mimetype": "text/x-python",
   "name": "python",
   "nbconvert_exporter": "python",
   "pygments_lexer": "ipython3",
   "version": "3.7.5"
  }
 },
 "nbformat": 4,
 "nbformat_minor": 5
}
