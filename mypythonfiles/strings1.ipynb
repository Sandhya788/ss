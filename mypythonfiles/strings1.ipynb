{
 "cells": [
  {
   "cell_type": "code",
   "execution_count": 7,
   "id": "9c92861d",
   "metadata": {},
   "outputs": [
    {
     "name": "stdout",
     "output_type": "stream",
     "text": [
      "python's course for Begginners\n",
      "python course for \"Begginners\"\n",
      "\n",
      "Hi, Jhon\n",
      "\n",
      "Here is our first email to you.\n",
      "\n",
      "Thank You'\n",
      "The support team \n",
      "\n",
      "s\n"
     ]
    }
   ],
   "source": [
    "course=\"python's course for Begginners\"\n",
    "print(course)\n",
    "c='python course for \"Begginners\"'\n",
    "print(c)\n",
    "e='''\n",
    "Hi, Jhon\n",
    "\n",
    "Here is our first email to you.\n",
    "\n",
    "Thank You'\n",
    "The support team \n",
    "'''\n",
    "print(e)\n",
    "f='Pytho for Begginners'\n",
    "print(f[-1])"
   ]
  },
  {
   "cell_type": "code",
   "execution_count": 8,
   "id": "96690952",
   "metadata": {},
   "outputs": [
    {
     "name": "stdout",
     "output_type": "stream",
     "text": [
      "Pyt\n"
     ]
    }
   ],
   "source": [
    "print(f[0:3])"
   ]
  },
  {
   "cell_type": "code",
   "execution_count": 9,
   "id": "c58d3ce5",
   "metadata": {},
   "outputs": [
    {
     "name": "stdout",
     "output_type": "stream",
     "text": [
      "Pytho for Begginners\n"
     ]
    }
   ],
   "source": [
    "print(f[0:])"
   ]
  },
  {
   "cell_type": "code",
   "execution_count": 10,
   "id": "b2b8c064",
   "metadata": {},
   "outputs": [
    {
     "name": "stdout",
     "output_type": "stream",
     "text": [
      "ytho for Begginners\n"
     ]
    }
   ],
   "source": [
    "print(f[1:])"
   ]
  },
  {
   "cell_type": "code",
   "execution_count": 11,
   "id": "56419d4c",
   "metadata": {},
   "outputs": [
    {
     "name": "stdout",
     "output_type": "stream",
     "text": [
      "Pytho\n"
     ]
    }
   ],
   "source": [
    "print(f[0:5])"
   ]
  },
  {
   "cell_type": "code",
   "execution_count": 12,
   "id": "b9a7461f",
   "metadata": {},
   "outputs": [
    {
     "name": "stdout",
     "output_type": "stream",
     "text": [
      "Pytho for Begginners\n"
     ]
    }
   ],
   "source": [
    "print(f[:])"
   ]
  },
  {
   "cell_type": "code",
   "execution_count": 13,
   "id": "dcab286e",
   "metadata": {},
   "outputs": [
    {
     "name": "stdout",
     "output_type": "stream",
     "text": [
      "Pytho for Begginners\n"
     ]
    }
   ],
   "source": [
    "f='Pytho for Begginners'\n",
    "s=f[:]\n",
    "print(s)"
   ]
  },
  {
   "cell_type": "code",
   "execution_count": 14,
   "id": "f22c5d84",
   "metadata": {},
   "outputs": [
    {
     "name": "stdout",
     "output_type": "stream",
     "text": [
      "andhy\n"
     ]
    }
   ],
   "source": [
    "name='Sandhya'\n",
    "print(name[1:-1])"
   ]
  },
  {
   "cell_type": "markdown",
   "id": "ca686750",
   "metadata": {},
   "source": [
    "# Formatted Strings:"
   ]
  },
  {
   "cell_type": "code",
   "execution_count": 18,
   "id": "b52e9bb0",
   "metadata": {},
   "outputs": [
    {
     "name": "stdout",
     "output_type": "stream",
     "text": [
      "John [Smith] is a coder\n"
     ]
    }
   ],
   "source": [
    "first='John'\n",
    "last='Smith'\n",
    "print(first,'['+last+']',\"is a coder\")"
   ]
  },
  {
   "cell_type": "code",
   "execution_count": 8,
   "id": "f22a1400",
   "metadata": {},
   "outputs": [
    {
     "name": "stdout",
     "output_type": "stream",
     "text": [
      "John [Smith] is a coder\n",
      "John [Smith] is a coder\n"
     ]
    }
   ],
   "source": [
    "fi='John'\n",
    "la='Smith'\n",
    "msg=fi +' ['+la+'] '\n",
    "msge=f'{fi} [{la}] is a coder'\n",
    "print(msg+\"is a coder\")\n",
    "print(msge)"
   ]
  },
  {
   "cell_type": "markdown",
   "id": "7a1d93ad",
   "metadata": {},
   "source": [
    "# String Methods:"
   ]
  },
  {
   "cell_type": "code",
   "execution_count": 21,
   "id": "0c203ea9",
   "metadata": {},
   "outputs": [
    {
     "name": "stdout",
     "output_type": "stream",
     "text": [
      "20\n",
      "PYTHON FOR BEGINNERS\n",
      "Python For Beginners\n",
      "python for beginners\n",
      "0\n",
      "4\n",
      "-1\n",
      "11\n",
      "Python For Absolute Beginners\n",
      "Jython For Beginners\n",
      "True\n",
      "False\n",
      "Python For Beginners\n"
     ]
    }
   ],
   "source": [
    "co='Python For Beginners'\n",
    "print(len(co))\n",
    "print(co.upper())\n",
    "print(co)\n",
    "print(co.lower())\n",
    "print(co.find('P'))\n",
    "print(co.find('o'))\n",
    "print(co.find('O'))\n",
    "print(co.find('Beginners'))\n",
    "print(co.replace('Beginners','Absolute Beginners'))\n",
    "print(co.replace('P','J'))\n",
    "print('Python' in co)\n",
    "print('python' in co)\n",
    "print(co.title())"
   ]
  },
  {
   "cell_type": "code",
   "execution_count": 23,
   "id": "2b8a8559",
   "metadata": {},
   "outputs": [
    {
     "name": "stdout",
     "output_type": "stream",
     "text": [
      "13\n",
      "3.3333333333333335\n",
      "7\n",
      "1000\n",
      "3\n",
      "1\n"
     ]
    }
   ],
   "source": [
    "print(10+3)\n",
    "print(10/3)\n",
    "print(10-3)\n",
    "print(10**3)\n",
    "print(10//3)\n",
    "print(10%3)"
   ]
  },
  {
   "cell_type": "code",
   "execution_count": null,
   "id": "48a820bd",
   "metadata": {},
   "outputs": [],
   "source": []
  }
 ],
 "metadata": {
  "kernelspec": {
   "display_name": "Python 3",
   "language": "python",
   "name": "python3"
  },
  "language_info": {
   "codemirror_mode": {
    "name": "ipython",
    "version": 3
   },
   "file_extension": ".py",
   "mimetype": "text/x-python",
   "name": "python",
   "nbconvert_exporter": "python",
   "pygments_lexer": "ipython3",
   "version": "3.7.5"
  }
 },
 "nbformat": 4,
 "nbformat_minor": 5
}
