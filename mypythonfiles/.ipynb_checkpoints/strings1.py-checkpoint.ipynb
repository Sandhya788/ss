{
 "cells": [
  {
   "cell_type": "code",
   "execution_count": 7,
   "id": "9c92861d",
   "metadata": {},
   "outputs": [
    {
     "name": "stdout",
     "output_type": "stream",
     "text": [
      "python's course for Begginners\n",
      "python course for \"Begginners\"\n",
      "\n",
      "Hi, Jhon\n",
      "\n",
      "Here is our first email to you.\n",
      "\n",
      "Thank You'\n",
      "The support team \n",
      "\n",
      "s\n"
     ]
    }
   ],
   "source": [
    "course=\"python's course for Begginners\"\n",
    "print(course)\n",
    "c='python course for \"Begginners\"'\n",
    "print(c)\n",
    "e='''\n",
    "Hi, Jhon\n",
    "\n",
    "Here is our first email to you.\n",
    "\n",
    "Thank You'\n",
    "The support team \n",
    "'''\n",
    "print(e)\n",
    "f='Pytho for Begginners'\n",
    "print(f[-1])"
   ]
  },
  {
   "cell_type": "code",
   "execution_count": 8,
   "id": "9f45618f",
   "metadata": {},
   "outputs": [
    {
     "name": "stdout",
     "output_type": "stream",
     "text": [
      "Pyt\n"
     ]
    }
   ],
   "source": [
    "print(f[0:3])"
   ]
  },
  {
   "cell_type": "code",
   "execution_count": 9,
   "id": "35112407",
   "metadata": {},
   "outputs": [
    {
     "name": "stdout",
     "output_type": "stream",
     "text": [
      "Pytho for Begginners\n"
     ]
    }
   ],
   "source": [
    "print(f[0:])"
   ]
  },
  {
   "cell_type": "code",
   "execution_count": 10,
   "id": "321ce115",
   "metadata": {},
   "outputs": [
    {
     "name": "stdout",
     "output_type": "stream",
     "text": [
      "ytho for Begginners\n"
     ]
    }
   ],
   "source": [
    "print(f[1:])"
   ]
  },
  {
   "cell_type": "code",
   "execution_count": 11,
   "id": "a91a81aa",
   "metadata": {},
   "outputs": [
    {
     "name": "stdout",
     "output_type": "stream",
     "text": [
      "Pytho\n"
     ]
    }
   ],
   "source": [
    "print(f[0:5])"
   ]
  },
  {
   "cell_type": "code",
   "execution_count": 12,
   "id": "bfe68942",
   "metadata": {},
   "outputs": [
    {
     "name": "stdout",
     "output_type": "stream",
     "text": [
      "Pytho for Begginners\n"
     ]
    }
   ],
   "source": [
    "print(f[:])"
   ]
  },
  {
   "cell_type": "code",
   "execution_count": 13,
   "id": "126b2d62",
   "metadata": {},
   "outputs": [
    {
     "name": "stdout",
     "output_type": "stream",
     "text": [
      "Pytho for Begginners\n"
     ]
    }
   ],
   "source": [
    "f='Pytho for Begginners'\n",
    "s=f[:]\n",
    "print(s)"
   ]
  },
  {
   "cell_type": "code",
   "execution_count": 14,
   "id": "dad42a5f",
   "metadata": {},
   "outputs": [
    {
     "name": "stdout",
     "output_type": "stream",
     "text": [
      "andhy\n"
     ]
    }
   ],
   "source": [
    "name='Sandhya'\n",
    "print(name[1:-1])"
   ]
  },
  {
   "cell_type": "markdown",
   "id": "6e0065e4",
   "metadata": {},
   "source": [
    "# Formatted Strings:"
   ]
  },
  {
   "cell_type": "code",
   "execution_count": 18,
   "id": "e1ce8fcd",
   "metadata": {},
   "outputs": [
    {
     "name": "stdout",
     "output_type": "stream",
     "text": [
      "John [Smith] is a coder\n"
     ]
    }
   ],
   "source": [
    "first='John'\n",
    "last='Smith'\n",
    "print(first,'['+last+']',\"is a coder\")"
   ]
  },
  {
   "cell_type": "code",
   "execution_count": null,
   "id": "70f7f79f",
   "metadata": {},
   "outputs": [],
   "source": []
  }
 ],
 "metadata": {
  "kernelspec": {
   "display_name": "Python 3",
   "language": "python",
   "name": "python3"
  },
  "language_info": {
   "codemirror_mode": {
    "name": "ipython",
    "version": 3
   },
   "file_extension": ".py",
   "mimetype": "text/x-python",
   "name": "python",
   "nbconvert_exporter": "python",
   "pygments_lexer": "ipython3",
   "version": "3.7.5"
  }
 },
 "nbformat": 4,
 "nbformat_minor": 5
}
