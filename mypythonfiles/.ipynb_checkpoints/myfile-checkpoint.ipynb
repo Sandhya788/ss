{
 "cells": [
  {
   "cell_type": "code",
   "execution_count": 3,
   "id": "8bd927f7",
   "metadata": {},
   "outputs": [
    {
     "name": "stdout",
     "output_type": "stream",
     "text": [
      "16\n",
      "16\n"
     ]
    }
   ],
   "source": [
    "x=10\n",
    "x=x+3\n",
    "x+=3\n",
    "print(x)\n",
    "print(x)"
   ]
  },
  {
   "cell_type": "code",
   "execution_count": 2,
   "id": "97fa4557",
   "metadata": {},
   "outputs": [
    {
     "name": "stdout",
     "output_type": "stream",
     "text": [
      "16\n"
     ]
    }
   ],
   "source": [
    "x+=3\n",
    "print(x)"
   ]
  },
  {
   "cell_type": "markdown",
   "id": "ef193031",
   "metadata": {},
   "source": [
    "# Operator Precedence:"
   ]
  },
  {
   "cell_type": "code",
   "execution_count": 4,
   "id": "98245531",
   "metadata": {},
   "outputs": [
    {
     "name": "stdout",
     "output_type": "stream",
     "text": [
      "16\n"
     ]
    }
   ],
   "source": [
    "a=10+3*2\n",
    "print(a)"
   ]
  },
  {
   "cell_type": "markdown",
   "id": "02b073d3",
   "metadata": {},
   "source": [
    "* Paranthesis\n",
    "* exponentiation\n",
    "* multiplication or division\n",
    "* addition or subtraction"
   ]
  },
  {
   "cell_type": "code",
   "execution_count": 7,
   "id": "2926248f",
   "metadata": {},
   "outputs": [
    {
     "name": "stdout",
     "output_type": "stream",
     "text": [
      "22\n"
     ]
    }
   ],
   "source": [
    "b=10+3*2**2\n",
    "print(b)"
   ]
  },
  {
   "cell_type": "code",
   "execution_count": 8,
   "id": "8c1ac6e7",
   "metadata": {},
   "outputs": [
    {
     "name": "stdout",
     "output_type": "stream",
     "text": [
      "52\n"
     ]
    }
   ],
   "source": [
    "a=(10+3)*2**2\n",
    "print(a)"
   ]
  },
  {
   "cell_type": "code",
   "execution_count": 9,
   "id": "3e0f14c0",
   "metadata": {},
   "outputs": [
    {
     "name": "stdout",
     "output_type": "stream",
     "text": [
      "47\n"
     ]
    }
   ],
   "source": [
    "s=(2+3)*10-3\n",
    "print(s)"
   ]
  },
  {
   "cell_type": "markdown",
   "id": "a88dde6b",
   "metadata": {},
   "source": [
    "***Math Functions***"
   ]
  },
  {
   "cell_type": "code",
   "execution_count": 11,
   "id": "5fb22e0c",
   "metadata": {},
   "outputs": [
    {
     "name": "stdout",
     "output_type": "stream",
     "text": [
      "3\n"
     ]
    }
   ],
   "source": [
    "v=2.9\n",
    "print(round(v))"
   ]
  },
  {
   "cell_type": "code",
   "execution_count": 12,
   "id": "8670366f",
   "metadata": {},
   "outputs": [
    {
     "name": "stdout",
     "output_type": "stream",
     "text": [
      "2.9\n"
     ]
    }
   ],
   "source": [
    "v=-2.9\n",
    "print(abs(v))"
   ]
  },
  {
   "cell_type": "code",
   "execution_count": 13,
   "id": "bd0c1da9",
   "metadata": {},
   "outputs": [],
   "source": [
    "import math"
   ]
  },
  {
   "cell_type": "code",
   "execution_count": 14,
   "id": "dab5bead",
   "metadata": {},
   "outputs": [
    {
     "name": "stdout",
     "output_type": "stream",
     "text": [
      "3\n"
     ]
    }
   ],
   "source": [
    "print(math.ceil(2.9))"
   ]
  },
  {
   "cell_type": "code",
   "execution_count": 15,
   "id": "a1e54f78",
   "metadata": {},
   "outputs": [
    {
     "name": "stdout",
     "output_type": "stream",
     "text": [
      "2\n"
     ]
    }
   ],
   "source": [
    "print(math.floor(2.9))"
   ]
  },
  {
   "cell_type": "markdown",
   "id": "77ddda66",
   "metadata": {},
   "source": [
    "# Search in browser python3 math module:first link"
   ]
  },
  {
   "cell_type": "markdown",
   "id": "ff3d98a0",
   "metadata": {},
   "source": [
    "## If Statements:"
   ]
  },
  {
   "cell_type": "markdown",
   "id": "320cf934",
   "metadata": {},
   "source": [
    "* if its hot:\n",
    "    * its a hot day\n",
    "    * drink plenty of water\n",
    "* otherwise if its cold:\n",
    "    * its a cold day\n",
    "    * wear worm clothes\n",
    "* otherwise:\n",
    "    * its a lovely day"
   ]
  },
  {
   "cell_type": "code",
   "execution_count": 19,
   "id": "f04aec5f",
   "metadata": {},
   "outputs": [
    {
     "name": "stdout",
     "output_type": "stream",
     "text": [
      "it's a lovely day\n"
     ]
    }
   ],
   "source": [
    "is_hot=False\n",
    "is_cold=False\n",
    "if is_hot:\n",
    "    print(\"it's a hot day \\ndrink plenty of water\")\n",
    "elif is_cold:\n",
    "    print(\"it's a cold day \\nwear worm clothes\")\n",
    "else:\n",
    "    print(\"it's a lovely day\")"
   ]
  },
  {
   "cell_type": "code",
   "execution_count": 23,
   "id": "0daf27d0",
   "metadata": {},
   "outputs": [
    {
     "name": "stdout",
     "output_type": "stream",
     "text": [
      "down payment:$100000.0\n"
     ]
    }
   ],
   "source": [
    "# Task:\n",
    "price=1000000\n",
    "has_good_credit=True\n",
    "if has_good_credit:\n",
    "    down_payment=0.1*price\n",
    "else:\n",
    "    down_payment=0.2*price\n",
    "print(\"down payment:${}\".format(down_payment))"
   ]
  },
  {
   "cell_type": "code",
   "execution_count": null,
   "id": "4a05ccfa",
   "metadata": {},
   "outputs": [],
   "source": []
  }
 ],
 "metadata": {
  "kernelspec": {
   "display_name": "Python 3",
   "language": "python",
   "name": "python3"
  },
  "language_info": {
   "codemirror_mode": {
    "name": "ipython",
    "version": 3
   },
   "file_extension": ".py",
   "mimetype": "text/x-python",
   "name": "python",
   "nbconvert_exporter": "python",
   "pygments_lexer": "ipython3",
   "version": "3.7.5"
  }
 },
 "nbformat": 4,
 "nbformat_minor": 5
}
