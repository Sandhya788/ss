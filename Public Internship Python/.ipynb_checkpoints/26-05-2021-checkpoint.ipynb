{
 "cells": [
  {
   "cell_type": "markdown",
   "id": "2b7ef1fa",
   "metadata": {},
   "source": [
    "Hi Welcome 👍😉"
   ]
  },
  {
   "cell_type": "markdown",
   "id": "f8c31603",
   "metadata": {},
   "source": [
    "# Output:\n",
    "    - %\n",
    "    - , +\n",
    "    - .format"
   ]
  },
  {
   "cell_type": "code",
   "execution_count": 2,
   "id": "aa4a3724",
   "metadata": {},
   "outputs": [
    {
     "name": "stdout",
     "output_type": "stream",
     "text": [
      "Enter a value: 20\n",
      "Enter a name: sandhya\n",
      "Entered number is: 20\n",
      "Entered Name is: sandhya\n"
     ]
    }
   ],
   "source": [
    "n = int(input(\"Enter a value: \"))\n",
    "m = input(\"Enter a name: \")\n",
    "print(\"Entered number is: %d\"%n)\n",
    "print(\"Entered Name is: %s\"%m)"
   ]
  },
  {
   "cell_type": "code",
   "execution_count": 3,
   "id": "b866260d",
   "metadata": {},
   "outputs": [
    {
     "name": "stdout",
     "output_type": "stream",
     "text": [
      "Entered Number is: 20 and Entered Name is: sandhya\n"
     ]
    }
   ],
   "source": [
    "print(\"Entered Number is: %d and Entered Name is: %s\"%(n,m))"
   ]
  },
  {
   "cell_type": "code",
   "execution_count": 4,
   "id": "621acf57",
   "metadata": {},
   "outputs": [
    {
     "name": "stdout",
     "output_type": "stream",
     "text": [
      "Entered Number is: 20 and Entered Name is: sandhya\n",
      "Entered Number is: 20 and Entered Name is: sandhya\n",
      "Entered Name is: sandhya and Entered Number is: 20\n"
     ]
    }
   ],
   "source": [
    "print(\"Entered Number is: {} and Entered Name is: {}\".format(n,m))\n",
    "print(\"Entered Number is: {0} and Entered Name is: {1}\".format(n,m))\n",
    "print(\"Entered Name is: {1} and Entered Number is: {0}\".format(n,m))"
   ]
  },
  {
   "cell_type": "markdown",
   "id": "c069cf3d",
   "metadata": {},
   "source": [
    "# Operators:\n",
    "    - Arithmetic -> +,-,*,/,%,floor(// -> Exact integer), exponential (** => pow())\n",
    "    - Logical -> AND,OR,NOT\n",
    "    - Bitwise -> &&,||,>>,<<\n",
    "    - Relational -> ==,!=,>=,<=,>,<\n",
    "    - Assignment -> +=,-=,*=,/=,%=\n",
    "    - Membership -> in,not in\n",
    "    - Identity -> is,is not"
   ]
  },
  {
   "cell_type": "code",
   "execution_count": 5,
   "id": "80c49cb0",
   "metadata": {},
   "outputs": [
    {
     "name": "stdout",
     "output_type": "stream",
     "text": [
      "5\n"
     ]
    }
   ],
   "source": [
    "a = 20\n",
    "print(a>>2)"
   ]
  },
  {
   "cell_type": "markdown",
   "id": "dd5536bc",
   "metadata": {},
   "source": [
    "## Conditional Statements:\n",
    "    - To Check whether a given condition is either True or False\n",
    "    - if,nested if,if-else,elif ladder\n",
    "### If -> Single Case [T or F]\n",
    "    Syntax:\n",
    "        if (condition):\n",
    "            //stmnt"
   ]
  },
  {
   "cell_type": "code",
   "execution_count": 6,
   "id": "7a1d6efe",
   "metadata": {},
   "outputs": [
    {
     "name": "stdout",
     "output_type": "stream",
     "text": [
      "45\n",
      "Entered Value is: 45\n"
     ]
    }
   ],
   "source": [
    "n = int(input())\n",
    "if n == 45:\n",
    "    print(\"Entered Value is: {}\".format(n))"
   ]
  },
  {
   "cell_type": "markdown",
   "id": "9cb9569b",
   "metadata": {},
   "source": [
    "## If-else -> Two Cases[T or F]\n",
    "    Syntax:\n",
    "        if (condition-1):\n",
    "            //True Statement\n",
    "        else:\n",
    "            //False Statement"
   ]
  },
  {
   "cell_type": "code",
   "execution_count": 7,
   "id": "8f3b929b",
   "metadata": {},
   "outputs": [
    {
     "name": "stdout",
     "output_type": "stream",
     "text": [
      "23\n",
      "18\n",
      "Entered value 23 is not equal to 18\n"
     ]
    }
   ],
   "source": [
    "k = int(input())\n",
    "m = int(input())\n",
    "if k == m:\n",
    "    print(\"Entered values {} and {} are Equal\".format(k,m))\n",
    "else:\n",
    "    print(\"Entered value {} is not equal to {}\".format(k,m))"
   ]
  },
  {
   "cell_type": "markdown",
   "id": "97e216cf",
   "metadata": {},
   "source": [
    "### Nested If [if within an if] -> one or more cases\n",
    "    Syntax:\n",
    "        if (condition-1):\n",
    "            if(condition-2):\n",
    "                //stmnt-1\n",
    "\n",
    "       else optional case\n",
    "       if (condition-1):\n",
    "           if(condition-2):\n",
    "               //stmnt-1\n",
    "           else:\n",
    "               //stmnt-2\n",
    "       else:\n",
    "           //stmnt-3"
   ]
  },
  {
   "cell_type": "code",
   "execution_count": 8,
   "id": "aa33f315",
   "metadata": {},
   "outputs": [
    {
     "name": "stdout",
     "output_type": "stream",
     "text": [
      "150\n",
      "Entered Value 150 is not equal to 100 but it is lower than 200\n"
     ]
    }
   ],
   "source": [
    "n = int(input())\n",
    "if (n<=200):\n",
    "    if (n==100):\n",
    "        print(\"Entered Value {} is equal to 100\".format(n))\n",
    "    else:\n",
    "        print(\"Entered Value {} is not equal to 100 but it is lower than 200\".format(n))\n",
    "else:\n",
    "    print(\"Entered Value {} is greater than 200\".format(n))"
   ]
  },
  {
   "cell_type": "markdown",
   "id": "6922caee",
   "metadata": {},
   "source": [
    "## Elif -> Two or n more cases\n",
    "    Syntax:\n",
    "        if (condition-1):\n",
    "            //stmnt-1\n",
    "        elif (condition-2):\n",
    "            //stmnt-2\n",
    "        elif (condition-n):\n",
    "            //stmnt-n\n",
    "            | | | | |\n",
    "        else:\n",
    "            //stmnt-(n+1)"
   ]
  },
  {
   "cell_type": "code",
   "execution_count": 9,
   "id": "1191b3ba",
   "metadata": {},
   "outputs": [
    {
     "name": "stdout",
     "output_type": "stream",
     "text": [
      "40\n",
      "Entered Value 40 is divisible by 4\n"
     ]
    }
   ],
   "source": [
    "h = int(input())\n",
    "if h%4 == 0:\n",
    "    print(\"Entered Value {} is divisible by 4\".format(h))\n",
    "elif h%2 == 0 & h%4 == 0:\n",
    "    print(\"Entered Value {} is divisible by 2 and 4\".format(h))\n",
    "elif h%2==0:\n",
    "    print(\"Entered Value {} is divisible by 2\".format(h))\n",
    "else:\n",
    "    print(\"Entered Value {} is Not divisible by 2\".format(h))"
   ]
  },
  {
   "cell_type": "markdown",
   "id": "bf4c1616",
   "metadata": {},
   "source": [
    "## Control Statements,Iterations,Loops,Repition\n",
    "    - To Control the Flow of Execution\n",
    "    - For,while"
   ]
  },
  {
   "cell_type": "markdown",
   "id": "c95f3e7d",
   "metadata": {},
   "source": [
    "### For -> For particular Range => [Know Ranges]\n",
    "    Syntax:\n",
    "        for iteration_variable in Iterator:\n",
    "            //stmnts\n",
    "\n",
    "        for iteration_variable in range():\n",
    "            //stmnts"
   ]
  },
  {
   "cell_type": "markdown",
   "id": "0336c4c6",
   "metadata": {},
   "source": [
    "### Range\n",
    "    range(n):\n",
    "        -> By Default it starts from 0 to n-1\n",
    "        => range(5) => 0,1,2,3,4\n",
    "    range(n,m):\n",
    "        -> Start range will starts from exactly at n and stops at m-1\n",
    "        => range(4,8) => 4,5,6,7\n",
    "    range(n,m,s):\n",
    "        -> Start range will starts from exactly at n and stops at m-1 and stepping to s\n",
    "        => range(4,10,2) => 4,6,8"
   ]
  },
  {
   "cell_type": "code",
   "execution_count": 10,
   "id": "896af64f",
   "metadata": {},
   "outputs": [
    {
     "name": "stdout",
     "output_type": "stream",
     "text": [
      "Enter a range value: 23\n",
      "0,1,2,3,4,5,6,7,8,9,10,11,12,13,14,15,16,17,18,19,20,21,22,"
     ]
    }
   ],
   "source": [
    "n = int(input(\"Enter a range value: \"))\n",
    "for b in range(n):\n",
    "    print(b,end=\",\")"
   ]
  },
  {
   "cell_type": "code",
   "execution_count": 11,
   "id": "1fa64ca2",
   "metadata": {},
   "outputs": [
    {
     "name": "stdout",
     "output_type": "stream",
     "text": [
      "Enter a Starting range value: 20\n",
      "Enter a Ending range value: 50\n",
      "20,21,22,23,24,25,26,27,28,29,30,31,32,33,34,35,36,37,38,39,40,41,42,43,44,45,46,47,48,49,"
     ]
    }
   ],
   "source": [
    "n = int(input(\"Enter a Starting range value: \"))\n",
    "m = int(input(\"Enter a Ending range value: \"))\n",
    "for b in range(n,m):\n",
    "    print(b,end=\",\")"
   ]
  },
  {
   "cell_type": "code",
   "execution_count": 12,
   "id": "f00850a8",
   "metadata": {},
   "outputs": [
    {
     "name": "stdout",
     "output_type": "stream",
     "text": [
      "Enter a Starting range value: 0\n",
      "Enter a Ending range value: 30\n",
      "Enter a Stepping Value: 5\n",
      "0,5,10,15,20,25,"
     ]
    }
   ],
   "source": [
    "n = int(input(\"Enter a Starting range value: \"))\n",
    "m = int(input(\"Enter a Ending range value: \"))\n",
    "s = int(input(\"Enter a Stepping Value: \"))\n",
    "for b in range(n,m,s):\n",
    "    print(b,end=\",\")"
   ]
  },
  {
   "cell_type": "code",
   "execution_count": 13,
   "id": "7eb2b325",
   "metadata": {},
   "outputs": [
    {
     "name": "stdout",
     "output_type": "stream",
     "text": [
      "Enter a Starting range value: 0\n",
      "Enter a Ending range value: 10\n",
      "Enter a Stepping Value: 2\n",
      "10,8,6,4,2,"
     ]
    }
   ],
   "source": [
    "n = int(input(\"Enter a Starting range value: \"))\n",
    "m = int(input(\"Enter a Ending range value: \"))\n",
    "s = int(input(\"Enter a Stepping Value: \"))\n",
    "for b in range(m,n,-s):\n",
    "    print(b,end=\",\")"
   ]
  },
  {
   "cell_type": "code",
   "execution_count": 15,
   "id": "f7f6803f",
   "metadata": {},
   "outputs": [
    {
     "name": "stdout",
     "output_type": "stream",
     "text": [
      "10\n",
      "20\n",
      "10 9 8 7 6 5 4 3 2 1 "
     ]
    }
   ],
   "source": [
    "p = int(input())\n",
    "k = int(input())\n",
    "for a in range(p,k):\n",
    "    print(k-a,end=\" \")"
   ]
  },
  {
   "cell_type": "code",
   "execution_count": null,
   "id": "6bc020b9",
   "metadata": {},
   "outputs": [],
   "source": []
  }
 ],
 "metadata": {
  "kernelspec": {
   "display_name": "Python 3",
   "language": "python",
   "name": "python3"
  },
  "language_info": {
   "codemirror_mode": {
    "name": "ipython",
    "version": 3
   },
   "file_extension": ".py",
   "mimetype": "text/x-python",
   "name": "python",
   "nbconvert_exporter": "python",
   "pygments_lexer": "ipython3",
   "version": "3.7.5"
  }
 },
 "nbformat": 4,
 "nbformat_minor": 5
}
