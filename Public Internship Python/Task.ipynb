{
 "cells": [
  {
   "cell_type": "markdown",
   "id": "c5d16164",
   "metadata": {},
   "source": [
    "# Task:"
   ]
  },
  {
   "cell_type": "code",
   "execution_count": 14,
   "id": "3f185d8c",
   "metadata": {},
   "outputs": [
    {
     "name": "stdout",
     "output_type": "stream",
     "text": [
      "145SYfg&*$#\n",
      "given string is 145SYfg&*$#\n",
      "alphabets in given string is: S Y f g \n",
      "numbers  in given string is: 1 4 5 \n",
      "special characters in given string is: & * $ # \n"
     ]
    }
   ],
   "source": [
    "t= input()\n",
    "print(\"given string is\",t)\n",
    "alpha=\" \"\n",
    "num=\" \" \n",
    "sp=\" \" \n",
    "for e in t:\n",
    "    if e.isalpha()==True:\n",
    "        alpha=alpha+e+ ' '\n",
    "#print(\"alphabet\n",
    "    elif e.isnumeric()==True:\n",
    "        num=num+e+ ' '\n",
    "    else:\n",
    "        sp=sp +e+ ' '\n",
    "print(\"alphabets in given string is:{}\\nnumbers  in given string is:{}\\nspecial characters in given string is:{}\".format(alpha,num,sp))"
   ]
  },
  {
   "cell_type": "code",
   "execution_count": null,
   "id": "b167a90f",
   "metadata": {},
   "outputs": [],
   "source": [
    "\n",
    "\n",
    "\n",
    "\n",
    "\n",
    "\n",
    "\n",
    "\n",
    "\n",
    "\n",
    "\n",
    "\n",
    "\n",
    "\n",
    "\n",
    "\n",
    "\n",
    "\n",
    "\n",
    "\n",
    "\n",
    "\n",
    "\n",
    "\n",
    "\n",
    "\n",
    "\n"
   ]
  }
 ],
 "metadata": {
  "kernelspec": {
   "display_name": "Python 3",
   "language": "python",
   "name": "python3"
  },
  "language_info": {
   "codemirror_mode": {
    "name": "ipython",
    "version": 3
   },
   "file_extension": ".py",
   "mimetype": "text/x-python",
   "name": "python",
   "nbconvert_exporter": "python",
   "pygments_lexer": "ipython3",
   "version": "3.7.5"
  }
 },
 "nbformat": 4,
 "nbformat_minor": 5
}
