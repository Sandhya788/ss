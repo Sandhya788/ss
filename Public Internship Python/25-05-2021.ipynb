{
 "cells": [
  {
   "cell_type": "markdown",
   "id": "3580ba15",
   "metadata": {},
   "source": [
    "# Markdown:"
   ]
  },
  {
   "cell_type": "code",
   "execution_count": 1,
   "id": "4594132e",
   "metadata": {},
   "outputs": [],
   "source": [
    "#escape m for markdown shortcut\n",
    "#escape y for code shortcut\n",
    "#click \"a\" for getting cell above the current working cell \n",
    "#click \"b\" for getting cell below the current working cell \n",
    "#click escape for getting editing mode to execution mode\n",
    "#doubleclick \"d\" by placing cursor on the cell for deleting that cell  "
   ]
  },
  {
   "cell_type": "markdown",
   "id": "d8b3b2b2",
   "metadata": {},
   "source": [
    "# markdown format"
   ]
  },
  {
   "cell_type": "markdown",
   "id": "1cf1b940",
   "metadata": {},
   "source": [
    "# heading1\n",
    "## heading 2\n",
    "### heading3\n",
    "#### heading4\n",
    "##### heading5\n",
    "###### heading6"
   ]
  },
  {
   "cell_type": "markdown",
   "id": "25692725",
   "metadata": {},
   "source": [
    "## Variable\n",
    "    -to store data\n",
    "    -to access the value in particular function or methods\n",
    "    -to change value"
   ]
  },
  {
   "cell_type": "code",
   "execution_count": 3,
   "id": "c6e54ab1",
   "metadata": {},
   "outputs": [],
   "source": [
    "a=10"
   ]
  },
  {
   "cell_type": "code",
   "execution_count": 4,
   "id": "3365e596",
   "metadata": {},
   "outputs": [
    {
     "data": {
      "text/plain": [
       "10"
      ]
     },
     "execution_count": 4,
     "metadata": {},
     "output_type": "execute_result"
    }
   ],
   "source": [
    "a"
   ]
  },
  {
   "cell_type": "code",
   "execution_count": 3,
   "id": "5782fc83",
   "metadata": {},
   "outputs": [],
   "source": [
    "b=20"
   ]
  },
  {
   "cell_type": "code",
   "execution_count": 4,
   "id": "a246d17a",
   "metadata": {},
   "outputs": [
    {
     "data": {
      "text/plain": [
       "20"
      ]
     },
     "execution_count": 4,
     "metadata": {},
     "output_type": "execute_result"
    }
   ],
   "source": [
    "b"
   ]
  },
  {
   "cell_type": "code",
   "execution_count": 2,
   "id": "e66886d3",
   "metadata": {},
   "outputs": [
    {
     "data": {
      "text/plain": [
       "'rajesh'"
      ]
     },
     "execution_count": 2,
     "metadata": {},
     "output_type": "execute_result"
    }
   ],
   "source": [
    "a=200\n",
    "b=\"rajesh\"\n",
    "a\n",
    "b"
   ]
  },
  {
   "cell_type": "code",
   "execution_count": 3,
   "id": "b16c1d82",
   "metadata": {},
   "outputs": [
    {
     "data": {
      "text/plain": [
       "(200, 'rajesh')"
      ]
     },
     "execution_count": 3,
     "metadata": {},
     "output_type": "execute_result"
    }
   ],
   "source": [
    "a=200\n",
    "b=\"rajesh\"\n",
    "a,b"
   ]
  },
  {
   "cell_type": "code",
   "execution_count": 4,
   "id": "35bfe6fa",
   "metadata": {},
   "outputs": [
    {
     "data": {
      "text/plain": [
       "200"
      ]
     },
     "execution_count": 4,
     "metadata": {},
     "output_type": "execute_result"
    }
   ],
   "source": [
    "a=200\n",
    "b=\"rajesh\"\n",
    "b\n",
    "a"
   ]
  },
  {
   "cell_type": "code",
   "execution_count": 6,
   "id": "84f0a3b8",
   "metadata": {},
   "outputs": [
    {
     "name": "stdout",
     "output_type": "stream",
     "text": [
      "200 rajesh\n",
      "rajesh 200\n"
     ]
    }
   ],
   "source": [
    "a=200\n",
    "b=\"rajesh\"\n",
    "print(a,b)\n",
    "print(b,a)"
   ]
  },
  {
   "cell_type": "markdown",
   "id": "5c5c7b4a",
   "metadata": {},
   "source": [
    "## Data Types\n",
    "    -int->only numbers\n",
    "    -float->decimal points\n",
    "    -string->either with ' or \""
   ]
  },
  {
   "cell_type": "markdown",
   "id": "a4a8578c",
   "metadata": {},
   "source": [
    "c=23.00\n",
    "\n",
    "t='tarun'"
   ]
  },
  {
   "cell_type": "code",
   "execution_count": 8,
   "id": "45f14a79",
   "metadata": {},
   "outputs": [],
   "source": [
    "c,t=23.00,'tarun'"
   ]
  },
  {
   "cell_type": "code",
   "execution_count": 9,
   "id": "72b79444",
   "metadata": {},
   "outputs": [
    {
     "name": "stdout",
     "output_type": "stream",
     "text": [
      "23.0 tarun\n"
     ]
    }
   ],
   "source": [
    "print(c,t)"
   ]
  },
  {
   "cell_type": "code",
   "execution_count": 10,
   "id": "16bf5839",
   "metadata": {},
   "outputs": [
    {
     "data": {
      "text/plain": [
       "23.0"
      ]
     },
     "execution_count": 10,
     "metadata": {},
     "output_type": "execute_result"
    }
   ],
   "source": [
    "c"
   ]
  },
  {
   "cell_type": "markdown",
   "id": "a58533ea",
   "metadata": {},
   "source": [
    "## Type:\n",
    "    -to know the datatype for value\n",
    "    -type(variablename,datastructure)"
   ]
  },
  {
   "cell_type": "code",
   "execution_count": 11,
   "id": "e6303333",
   "metadata": {},
   "outputs": [
    {
     "data": {
      "text/plain": [
       "float"
      ]
     },
     "execution_count": 11,
     "metadata": {},
     "output_type": "execute_result"
    }
   ],
   "source": [
    "type(c)"
   ]
  },
  {
   "cell_type": "code",
   "execution_count": 12,
   "id": "94ee1f30",
   "metadata": {},
   "outputs": [
    {
     "data": {
      "text/plain": [
       "'12.056'"
      ]
     },
     "execution_count": 12,
     "metadata": {},
     "output_type": "execute_result"
    }
   ],
   "source": [
    "g=\"12.056\"\n",
    "g"
   ]
  },
  {
   "cell_type": "code",
   "execution_count": 13,
   "id": "672222c9",
   "metadata": {},
   "outputs": [
    {
     "name": "stdout",
     "output_type": "stream",
     "text": [
      "12.056\n"
     ]
    }
   ],
   "source": [
    "print(g)"
   ]
  },
  {
   "cell_type": "code",
   "execution_count": 14,
   "id": "a23a0ebb",
   "metadata": {},
   "outputs": [
    {
     "data": {
      "text/plain": [
       "str"
      ]
     },
     "execution_count": 14,
     "metadata": {},
     "output_type": "execute_result"
    }
   ],
   "source": [
    "type(g)"
   ]
  },
  {
   "cell_type": "code",
   "execution_count": 15,
   "id": "ae434e82",
   "metadata": {},
   "outputs": [
    {
     "name": "stdout",
     "output_type": "stream",
     "text": [
      "<class 'str'>\n"
     ]
    }
   ],
   "source": [
    "print(type(g))"
   ]
  },
  {
   "cell_type": "code",
   "execution_count": 16,
   "id": "9f927619",
   "metadata": {},
   "outputs": [
    {
     "name": "stdout",
     "output_type": "stream",
     "text": [
      "<class 'float'>\n"
     ]
    }
   ],
   "source": [
    "print(type(c))"
   ]
  },
  {
   "cell_type": "code",
   "execution_count": 17,
   "id": "fa919c2c",
   "metadata": {},
   "outputs": [
    {
     "name": "stdout",
     "output_type": "stream",
     "text": [
      "<class 'int'>\n"
     ]
    }
   ],
   "source": [
    "print(type(a))"
   ]
  },
  {
   "cell_type": "code",
   "execution_count": 18,
   "id": "89cf8fd0",
   "metadata": {},
   "outputs": [
    {
     "name": "stdout",
     "output_type": "stream",
     "text": [
      "<class 'int'> <class 'str'> <class 'float'> <class 'str'>\n"
     ]
    }
   ],
   "source": [
    "print(type(a),type(b),type(c),type(g))"
   ]
  },
  {
   "cell_type": "code",
   "execution_count": 19,
   "id": "6dd25393",
   "metadata": {},
   "outputs": [
    {
     "data": {
      "text/plain": [
       "(int, str, float, str)"
      ]
     },
     "execution_count": 19,
     "metadata": {},
     "output_type": "execute_result"
    }
   ],
   "source": [
    "type(a),type(b),type(c),type(g)"
   ]
  },
  {
   "cell_type": "code",
   "execution_count": 20,
   "id": "567dbbca",
   "metadata": {},
   "outputs": [
    {
     "data": {
      "text/plain": [
       "(200, 'rajesh', 23.0, '12.056')"
      ]
     },
     "execution_count": 20,
     "metadata": {},
     "output_type": "execute_result"
    }
   ],
   "source": [
    "a,b,c,g"
   ]
  },
  {
   "cell_type": "markdown",
   "id": "a716a993",
   "metadata": {},
   "source": [
    "## Input()\n",
    "    - by default it considered as a string\n",
    "    -print(),read()"
   ]
  },
  {
   "cell_type": "code",
   "execution_count": 2,
   "id": "e32f9bba",
   "metadata": {},
   "outputs": [
    {
     "name": "stdout",
     "output_type": "stream",
     "text": [
      "23\n",
      "23 <class 'str'>\n"
     ]
    }
   ],
   "source": [
    "a=input()\n",
    "print(a,type(a))"
   ]
  },
  {
   "cell_type": "code",
   "execution_count": 4,
   "id": "276f1605",
   "metadata": {},
   "outputs": [
    {
     "name": "stdout",
     "output_type": "stream",
     "text": [
      "enter a value:23.00\n",
      "23.00 <class 'str'>\n"
     ]
    }
   ],
   "source": [
    "t=input(\"enter a value:\")\n",
    "print(t,type(t))# by default it taking as string"
   ]
  },
  {
   "cell_type": "markdown",
   "id": "29d15139",
   "metadata": {},
   "source": [
    "## Type Casting\n",
    "    -converting one data into another data type\n",
    "    -int(),float(),string()"
   ]
  },
  {
   "cell_type": "code",
   "execution_count": 8,
   "id": "475afd50",
   "metadata": {},
   "outputs": [
    {
     "name": "stdout",
     "output_type": "stream",
     "text": [
      "enter only integer value:90\n",
      "90 <class 'int'>\n"
     ]
    }
   ],
   "source": [
    "p=int(input(\"enter only integer value:\"))\n",
    "print(p,type(p))"
   ]
  },
  {
   "cell_type": "code",
   "execution_count": 11,
   "id": "c4af90a6",
   "metadata": {},
   "outputs": [
    {
     "name": "stdout",
     "output_type": "stream",
     "text": [
      "enter only float value:ashu\n"
     ]
    },
    {
     "ename": "ValueError",
     "evalue": "could not convert string to float: 'ashu'",
     "output_type": "error",
     "traceback": [
      "\u001b[1;31m---------------------------------------------------------------------------\u001b[0m",
      "\u001b[1;31mValueError\u001b[0m                                Traceback (most recent call last)",
      "\u001b[1;32m<ipython-input-11-a17f4d25b69b>\u001b[0m in \u001b[0;36m<module>\u001b[1;34m\u001b[0m\n\u001b[1;32m----> 1\u001b[1;33m \u001b[0mm\u001b[0m\u001b[1;33m=\u001b[0m\u001b[0mfloat\u001b[0m\u001b[1;33m(\u001b[0m\u001b[0minput\u001b[0m\u001b[1;33m(\u001b[0m\u001b[1;34m\"enter only float value:\"\u001b[0m\u001b[1;33m)\u001b[0m\u001b[1;33m)\u001b[0m\u001b[1;33m\u001b[0m\u001b[1;33m\u001b[0m\u001b[0m\n\u001b[0m\u001b[0;32m      2\u001b[0m \u001b[0mprint\u001b[0m\u001b[1;33m(\u001b[0m\u001b[0mm\u001b[0m\u001b[1;33m,\u001b[0m\u001b[0mtype\u001b[0m\u001b[1;33m(\u001b[0m\u001b[0mm\u001b[0m\u001b[1;33m)\u001b[0m\u001b[1;33m)\u001b[0m\u001b[1;33m\u001b[0m\u001b[1;33m\u001b[0m\u001b[0m\n",
      "\u001b[1;31mValueError\u001b[0m: could not convert string to float: 'ashu'"
     ]
    }
   ],
   "source": [
    "m=float(input(\"enter only float value:\"))\n",
    "print(m,type(m))"
   ]
  },
  {
   "cell_type": "code",
   "execution_count": 27,
   "id": "e3c3f5e5",
   "metadata": {},
   "outputs": [
    {
     "name": "stdout",
     "output_type": "stream",
     "text": [
      "enter integer value:48\n",
      "enter float value:45.0218\n",
      "conversion of int value is: 48.0\n",
      "conversion of float value is: 45\n",
      "both cases in string:'48' '45.0218'\n"
     ]
    }
   ],
   "source": [
    "q=int(input(\"enter integer value:\"))\n",
    "k=float(input(\"enter float value:\"))\n",
    "print(\"conversion of int value is:\",float(q))\n",
    "print(\"conversion of float value is:\",int(k))\n",
    "print(\"both cases in string:\"+\"'\"+str(q)+\"'\"+\" \"+\"'\"+str(k)+\"'\")"
   ]
  },
  {
   "cell_type": "code",
   "execution_count": 19,
   "id": "d6aaecdb",
   "metadata": {},
   "outputs": [
    {
     "name": "stdout",
     "output_type": "stream",
     "text": [
      "enter integer value:45\n",
      "enter float value:67.0\n"
     ]
    },
    {
     "ename": "TypeError",
     "evalue": "can only concatenate str (not \"float\") to str",
     "output_type": "error",
     "traceback": [
      "\u001b[1;31m---------------------------------------------------------------------------\u001b[0m",
      "\u001b[1;31mTypeError\u001b[0m                                 Traceback (most recent call last)",
      "\u001b[1;32m<ipython-input-19-e22a20137e6a>\u001b[0m in \u001b[0;36m<module>\u001b[1;34m\u001b[0m\n\u001b[0;32m      1\u001b[0m \u001b[0mq\u001b[0m\u001b[1;33m=\u001b[0m\u001b[0mint\u001b[0m\u001b[1;33m(\u001b[0m\u001b[0minput\u001b[0m\u001b[1;33m(\u001b[0m\u001b[1;34m\"enter integer value:\"\u001b[0m\u001b[1;33m)\u001b[0m\u001b[1;33m)\u001b[0m\u001b[1;33m\u001b[0m\u001b[1;33m\u001b[0m\u001b[0m\n\u001b[0;32m      2\u001b[0m \u001b[0mk\u001b[0m\u001b[1;33m=\u001b[0m\u001b[0mfloat\u001b[0m\u001b[1;33m(\u001b[0m\u001b[0minput\u001b[0m\u001b[1;33m(\u001b[0m\u001b[1;34m\"enter float value:\"\u001b[0m\u001b[1;33m)\u001b[0m\u001b[1;33m)\u001b[0m\u001b[1;33m\u001b[0m\u001b[1;33m\u001b[0m\u001b[0m\n\u001b[1;32m----> 3\u001b[1;33m \u001b[0mprint\u001b[0m\u001b[1;33m(\u001b[0m\u001b[1;34m\"conversion of int value is:\"\u001b[0m\u001b[1;33m+\u001b[0m\u001b[0mfloat\u001b[0m\u001b[1;33m(\u001b[0m\u001b[0mq\u001b[0m\u001b[1;33m)\u001b[0m\u001b[1;33m)\u001b[0m\u001b[1;33m\u001b[0m\u001b[1;33m\u001b[0m\u001b[0m\n\u001b[0m\u001b[0;32m      4\u001b[0m \u001b[0mprint\u001b[0m\u001b[1;33m(\u001b[0m\u001b[1;34m\"conversion of float value is:\"\u001b[0m\u001b[1;33m,\u001b[0m\u001b[0mint\u001b[0m\u001b[1;33m(\u001b[0m\u001b[0mk\u001b[0m\u001b[1;33m)\u001b[0m\u001b[1;33m)\u001b[0m\u001b[1;33m\u001b[0m\u001b[1;33m\u001b[0m\u001b[0m\n\u001b[0;32m      5\u001b[0m \u001b[0mprint\u001b[0m\u001b[1;33m(\u001b[0m\u001b[1;34m\"both cases in string:\"\u001b[0m\u001b[1;33m,\u001b[0m\u001b[0mq\u001b[0m\u001b[1;33m,\u001b[0m\u001b[0mk\u001b[0m\u001b[1;33m)\u001b[0m\u001b[1;33m\u001b[0m\u001b[1;33m\u001b[0m\u001b[0m\n",
      "\u001b[1;31mTypeError\u001b[0m: can only concatenate str (not \"float\") to str"
     ]
    }
   ],
   "source": [
    "q=int(input(\"enter integer value:\"))\n",
    "k=float(input(\"enter float value:\"))\n",
    "print(\"conversion of int value is:\"+float(q))\n",
    "print(\"conversion of float value is:\",int(k))\n",
    "print(\"both cases in string:\",q,k)"
   ]
  },
  {
   "cell_type": "code",
   "execution_count": null,
   "id": "533a149c",
   "metadata": {},
   "outputs": [],
   "source": []
  },
  {
   "cell_type": "code",
   "execution_count": null,
   "id": "ccded874",
   "metadata": {},
   "outputs": [],
   "source": []
  },
  {
   "cell_type": "code",
   "execution_count": null,
   "id": "c87ae615",
   "metadata": {},
   "outputs": [],
   "source": []
  },
  {
   "cell_type": "code",
   "execution_count": null,
   "id": "b3b2d750",
   "metadata": {},
   "outputs": [],
   "source": []
  },
  {
   "cell_type": "code",
   "execution_count": null,
   "id": "f5f07e23",
   "metadata": {},
   "outputs": [],
   "source": []
  },
  {
   "cell_type": "code",
   "execution_count": null,
   "id": "26df1643",
   "metadata": {},
   "outputs": [],
   "source": []
  },
  {
   "cell_type": "code",
   "execution_count": null,
   "id": "75d0fd75",
   "metadata": {},
   "outputs": [],
   "source": []
  },
  {
   "cell_type": "code",
   "execution_count": null,
   "id": "145de26f",
   "metadata": {},
   "outputs": [],
   "source": []
  }
 ],
 "metadata": {
  "kernelspec": {
   "display_name": "Python 3",
   "language": "python",
   "name": "python3"
  },
  "language_info": {
   "codemirror_mode": {
    "name": "ipython",
    "version": 3
   },
   "file_extension": ".py",
   "mimetype": "text/x-python",
   "name": "python",
   "nbconvert_exporter": "python",
   "pygments_lexer": "ipython3",
   "version": "3.7.5"
  }
 },
 "nbformat": 4,
 "nbformat_minor": 5
}
